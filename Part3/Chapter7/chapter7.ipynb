{
 "cells": [
  {
   "cell_type": "code",
   "execution_count": 171,
   "source": [
    "import numpy as np\n",
    "import os\n",
    "import pandas as pd\n",
    "from itertools import product\n",
    "from pulp import LpProblem, LpVariable, lpSum, lpDot, value, const\n",
    "import networkx as nx\n",
    "\n",
    "os.chdir(os.path.dirname(os.path.abspath(__file__)))"
   ],
   "outputs": [],
   "metadata": {}
  },
  {
   "cell_type": "code",
   "execution_count": 172,
   "source": [
    "# 1.データ読み込み\n",
    "# 1-1.各倉庫から工場への輸送コストデータ\n",
    "trans_cost = pd.read_csv(\"input/trans_cost.csv\", index_col=\"工場\")\n",
    "trans_cost.head()"
   ],
   "outputs": [
    {
     "output_type": "execute_result",
     "data": {
      "text/html": [
       "<div>\n",
       "<style scoped>\n",
       "    .dataframe tbody tr th:only-of-type {\n",
       "        vertical-align: middle;\n",
       "    }\n",
       "\n",
       "    .dataframe tbody tr th {\n",
       "        vertical-align: top;\n",
       "    }\n",
       "\n",
       "    .dataframe thead th {\n",
       "        text-align: right;\n",
       "    }\n",
       "</style>\n",
       "<table border=\"1\" class=\"dataframe\">\n",
       "  <thead>\n",
       "    <tr style=\"text-align: right;\">\n",
       "      <th></th>\n",
       "      <th>F1</th>\n",
       "      <th>F2</th>\n",
       "      <th>F3</th>\n",
       "      <th>F4</th>\n",
       "    </tr>\n",
       "    <tr>\n",
       "      <th>工場</th>\n",
       "      <th></th>\n",
       "      <th></th>\n",
       "      <th></th>\n",
       "      <th></th>\n",
       "    </tr>\n",
       "  </thead>\n",
       "  <tbody>\n",
       "    <tr>\n",
       "      <th>W1</th>\n",
       "      <td>10</td>\n",
       "      <td>10</td>\n",
       "      <td>11</td>\n",
       "      <td>27</td>\n",
       "    </tr>\n",
       "    <tr>\n",
       "      <th>W2</th>\n",
       "      <td>18</td>\n",
       "      <td>21</td>\n",
       "      <td>12</td>\n",
       "      <td>14</td>\n",
       "    </tr>\n",
       "    <tr>\n",
       "      <th>W3</th>\n",
       "      <td>15</td>\n",
       "      <td>12</td>\n",
       "      <td>14</td>\n",
       "      <td>12</td>\n",
       "    </tr>\n",
       "  </tbody>\n",
       "</table>\n",
       "</div>"
      ],
      "text/plain": [
       "    F1  F2  F3  F4\n",
       "工場                \n",
       "W1  10  10  11  27\n",
       "W2  18  21  12  14\n",
       "W3  15  12  14  12"
      ]
     },
     "metadata": {},
     "execution_count": 172
    }
   ],
   "metadata": {}
  },
  {
   "cell_type": "code",
   "execution_count": 173,
   "source": [
    "# 1-2.各工場の必要最低生産数データ\n",
    "min_factory_demand = pd.read_csv(\"input/demand.csv\")\n",
    "min_factory_demand"
   ],
   "outputs": [
    {
     "output_type": "execute_result",
     "data": {
      "text/html": [
       "<div>\n",
       "<style scoped>\n",
       "    .dataframe tbody tr th:only-of-type {\n",
       "        vertical-align: middle;\n",
       "    }\n",
       "\n",
       "    .dataframe tbody tr th {\n",
       "        vertical-align: top;\n",
       "    }\n",
       "\n",
       "    .dataframe thead th {\n",
       "        text-align: right;\n",
       "    }\n",
       "</style>\n",
       "<table border=\"1\" class=\"dataframe\">\n",
       "  <thead>\n",
       "    <tr style=\"text-align: right;\">\n",
       "      <th></th>\n",
       "      <th>F1</th>\n",
       "      <th>F2</th>\n",
       "      <th>F3</th>\n",
       "      <th>F4</th>\n",
       "    </tr>\n",
       "  </thead>\n",
       "  <tbody>\n",
       "    <tr>\n",
       "      <th>0</th>\n",
       "      <td>28</td>\n",
       "      <td>29</td>\n",
       "      <td>31</td>\n",
       "      <td>25</td>\n",
       "    </tr>\n",
       "  </tbody>\n",
       "</table>\n",
       "</div>"
      ],
      "text/plain": [
       "   F1  F2  F3  F4\n",
       "0  28  29  31  25"
      ]
     },
     "metadata": {},
     "execution_count": 173
    }
   ],
   "metadata": {}
  },
  {
   "cell_type": "code",
   "execution_count": 174,
   "source": [
    "# 1-3.各倉庫の最大供給可能部品数データ\n",
    "max_warehouse_supply = pd.read_csv(\"input/supply.csv\")\n",
    "max_warehouse_supply"
   ],
   "outputs": [
    {
     "output_type": "execute_result",
     "data": {
      "text/html": [
       "<div>\n",
       "<style scoped>\n",
       "    .dataframe tbody tr th:only-of-type {\n",
       "        vertical-align: middle;\n",
       "    }\n",
       "\n",
       "    .dataframe tbody tr th {\n",
       "        vertical-align: top;\n",
       "    }\n",
       "\n",
       "    .dataframe thead th {\n",
       "        text-align: right;\n",
       "    }\n",
       "</style>\n",
       "<table border=\"1\" class=\"dataframe\">\n",
       "  <thead>\n",
       "    <tr style=\"text-align: right;\">\n",
       "      <th></th>\n",
       "      <th>W1</th>\n",
       "      <th>W2</th>\n",
       "      <th>W3</th>\n",
       "    </tr>\n",
       "  </thead>\n",
       "  <tbody>\n",
       "    <tr>\n",
       "      <th>0</th>\n",
       "      <td>35</td>\n",
       "      <td>41</td>\n",
       "      <td>42</td>\n",
       "    </tr>\n",
       "  </tbody>\n",
       "</table>\n",
       "</div>"
      ],
      "text/plain": [
       "   W1  W2  W3\n",
       "0  35  41  42"
      ]
     },
     "metadata": {},
     "execution_count": 174
    }
   ],
   "metadata": {}
  },
  {
   "cell_type": "code",
   "execution_count": 175,
   "source": [
    "# 2.初期設定\n",
    "np.random.seed(1)\n",
    "# 各倉庫と各工場のデカルト積（itertools.product型）のリストを作成\n",
    "pr = list(\n",
    "    product(\n",
    "        range(len(max_warehouse_supply.columns)), range(len(min_factory_demand.columns))\n",
    "    )\n",
    ")\n",
    "pr"
   ],
   "outputs": [
    {
     "output_type": "execute_result",
     "data": {
      "text/plain": [
       "[(0, 0),\n",
       " (0, 1),\n",
       " (0, 2),\n",
       " (0, 3),\n",
       " (1, 0),\n",
       " (1, 1),\n",
       " (1, 2),\n",
       " (1, 3),\n",
       " (2, 0),\n",
       " (2, 1),\n",
       " (2, 2),\n",
       " (2, 3)]"
      ]
     },
     "metadata": {},
     "execution_count": 175
    }
   ],
   "metadata": {}
  },
  {
   "cell_type": "code",
   "execution_count": 176,
   "source": [
    "# 3.数理モデル作成\n",
    "# LP problemクラスのオブジェクトを作成(最小化問題として定義する)\n",
    "prob = LpProblem(sense=const.LpMinimize)\n",
    "\n",
    "# 変数(各ルートの輸送量)をprをキーとしたディクショナリ型で定義\n",
    "# 最小値は0,整数型に制約する\n",
    "v1 = {(i, j): LpVariable(f\"v{i}_{j}\", lowBound=0, cat=const.LpInteger) for i, j in pr}\n",
    "\n",
    "# 目的関数の定義(各ルートの輸送コストと各ルートの輸送量の積の総和)\n",
    "prob += lpSum(trans_cost.iloc[i, j] * v1[i, j] for i, j in pr)\n",
    "\n",
    "# 「制約条件1：各倉庫の部品供給数が最大部品供給数を超えない」を追加\n",
    "for i in range(len(max_warehouse_supply.columns)):\n",
    "    prob += (\n",
    "        lpSum(v1[i, j] for j in range(len(min_factory_demand.columns)))\n",
    "        <= max_warehouse_supply.iloc[0, i]\n",
    "    )\n",
    "\n",
    "# 「制約条件2:各工場が最低生産数以上を生産」を追加\n",
    "for j in range(len(min_factory_demand.columns)):\n",
    "    prob += (\n",
    "        lpSum(v1[i, j] for i in range(len(max_warehouse_supply.columns)))\n",
    "        >= min_factory_demand.iloc[0, j]\n",
    "    )\n",
    "\n",
    "# 最小化問題を解く\n",
    "prob.solve()"
   ],
   "outputs": [
    {
     "output_type": "stream",
     "name": "stdout",
     "text": [
      "Welcome to the CBC MILP Solver \n",
      "Version: 2.10.3 \n",
      "Build Date: Dec 15 2019 \n",
      "\n",
      "command line - /opt/homebrew/lib/python3.11/site-packages/pulp/solverdir/cbc/osx/64/cbc /var/folders/x1/__2lmnqj06b4qgghn00dv0s40000gn/T/8b30f882a838483bb780c7018e57fb1a-pulp.mps timeMode elapsed branch printingOptions all solution /var/folders/x1/__2lmnqj06b4qgghn00dv0s40000gn/T/8b30f882a838483bb780c7018e57fb1a-pulp.sol (default strategy 1)\n",
      "At line 2 NAME          MODEL\n",
      "At line 3 ROWS\n",
      "At line 12 COLUMNS\n",
      "At line 73 RHS\n",
      "At line 81 BOUNDS\n",
      "At line 94 ENDATA\n",
      "Problem MODEL has 7 rows, 12 columns and 24 elements\n",
      "Coin0008I MODEL read with 0 errors\n",
      "Option for timeMode changed from cpu to elapsed\n",
      "Continuous objective value is 1296 - 0.00 seconds\n",
      "Cgl0004I processed model has 7 rows, 12 columns (12 integer (0 of which binary)) and 24 elements\n",
      "Cutoff increment increased from 1e-05 to 0.9999\n",
      "Cbc0012I Integer solution of 1296 found by DiveCoefficient after 0 iterations and 0 nodes (0.00 seconds)\n",
      "Cbc0001I Search completed - best objective 1296, took 0 iterations and 0 nodes (0.00 seconds)\n",
      "Cbc0035I Maximum depth 0, 0 variables fixed on reduced cost\n",
      "Cuts at root node changed objective from 1296 to 1296\n",
      "Probing was tried 0 times and created 0 cuts of which 0 were active after adding rounds of cuts (0.000 seconds)\n",
      "Gomory was tried 0 times and created 0 cuts of which 0 were active after adding rounds of cuts (0.000 seconds)\n",
      "Knapsack was tried 0 times and created 0 cuts of which 0 were active after adding rounds of cuts (0.000 seconds)\n",
      "Clique was tried 0 times and created 0 cuts of which 0 were active after adding rounds of cuts (0.000 seconds)\n",
      "MixedIntegerRounding2 was tried 0 times and created 0 cuts of which 0 were active after adding rounds of cuts (0.000 seconds)\n",
      "FlowCover was tried 0 times and created 0 cuts of which 0 were active after adding rounds of cuts (0.000 seconds)\n",
      "TwoMirCuts was tried 0 times and created 0 cuts of which 0 were active after adding rounds of cuts (0.000 seconds)\n",
      "ZeroHalf was tried 0 times and created 0 cuts of which 0 were active after adding rounds of cuts (0.000 seconds)\n",
      "\n",
      "Result - Optimal solution found\n",
      "\n",
      "Objective value:                1296.00000000\n",
      "Enumerated nodes:               0\n",
      "Total iterations:               0\n",
      "Time (CPU seconds):             0.00\n",
      "Time (Wallclock seconds):       0.00\n",
      "\n",
      "Option for printingOptions changed from normal to all\n",
      "Total time (CPU seconds):       0.00   (Wallclock seconds):       0.00\n",
      "\n"
     ]
    },
    {
     "output_type": "execute_result",
     "data": {
      "text/plain": [
       "1"
      ]
     },
     "metadata": {},
     "execution_count": 176
    }
   ],
   "metadata": {}
  },
  {
   "cell_type": "code",
   "execution_count": 177,
   "source": [
    "# 4.総輸送コスト計算\n",
    "# 各ルートの輸送量の最適解を代入するデータフレームを作成\n",
    "data = np.zeros(\n",
    "    (len(max_warehouse_supply.columns), len(min_factory_demand.columns)), dtype=int\n",
    ")\n",
    "trans_route_solved = pd.DataFrame(\n",
    "    data, columns=min_factory_demand.columns, index=max_warehouse_supply.columns\n",
    ")\n",
    "\n",
    "# 総輸送量コストの変数を定義（初期値0）\n",
    "total_cost = 0\n",
    "\n",
    "# 変数v1（最適解に更新されている）は辞書型。キーをk, 値をxに代入する\n",
    "for k, x in v1.items():\n",
    "    i, j = k[0], k[1]\n",
    "    # 先に作成したデータフレームの各要素に対応するルートの輸送量の最適解を代入\n",
    "    trans_route_solved.iloc[i, j] = value(x)\n",
    "    # 総輸送量コストにそのルートの輸送コストを加算\n",
    "    total_cost += trans_cost.iloc[i, j] * value(x)\n",
    "\n",
    "print(trans_route_solved)\n",
    "print(f\"最適化ルートの総輸送コスト:{total_cost}\")"
   ],
   "outputs": [
    {
     "output_type": "stream",
     "name": "stdout",
     "text": [
      "    F1  F2  F3  F4\n",
      "W1  28   7   0   0\n",
      "W2   0   0  31   5\n",
      "W3   0  22   0  20\n",
      "最適化ルートの総輸送コスト:1296.0\n"
     ]
    }
   ],
   "metadata": {}
  },
  {
   "cell_type": "code",
   "execution_count": 178,
   "source": [
    "# ノード座標の読み込み\n",
    "trans_route_pos = pd.read_csv(\"input/trans_route_pos.csv\")\n",
    "trans_route_pos.head()"
   ],
   "outputs": [
    {
     "output_type": "execute_result",
     "data": {
      "text/html": [
       "<div>\n",
       "<style scoped>\n",
       "    .dataframe tbody tr th:only-of-type {\n",
       "        vertical-align: middle;\n",
       "    }\n",
       "\n",
       "    .dataframe tbody tr th {\n",
       "        vertical-align: top;\n",
       "    }\n",
       "\n",
       "    .dataframe thead th {\n",
       "        text-align: right;\n",
       "    }\n",
       "</style>\n",
       "<table border=\"1\" class=\"dataframe\">\n",
       "  <thead>\n",
       "    <tr style=\"text-align: right;\">\n",
       "      <th></th>\n",
       "      <th>W1</th>\n",
       "      <th>W2</th>\n",
       "      <th>W3</th>\n",
       "      <th>F1</th>\n",
       "      <th>F2</th>\n",
       "      <th>F3</th>\n",
       "      <th>F4</th>\n",
       "    </tr>\n",
       "  </thead>\n",
       "  <tbody>\n",
       "    <tr>\n",
       "      <th>0</th>\n",
       "      <td>0</td>\n",
       "      <td>0</td>\n",
       "      <td>0</td>\n",
       "      <td>4.0</td>\n",
       "      <td>4.0</td>\n",
       "      <td>4.0</td>\n",
       "      <td>4.0</td>\n",
       "    </tr>\n",
       "    <tr>\n",
       "      <th>1</th>\n",
       "      <td>1</td>\n",
       "      <td>2</td>\n",
       "      <td>3</td>\n",
       "      <td>0.5</td>\n",
       "      <td>1.5</td>\n",
       "      <td>2.5</td>\n",
       "      <td>3.5</td>\n",
       "    </tr>\n",
       "  </tbody>\n",
       "</table>\n",
       "</div>"
      ],
      "text/plain": [
       "   W1  W2  W3   F1   F2   F3   F4\n",
       "0   0   0   0  4.0  4.0  4.0  4.0\n",
       "1   1   2   3  0.5  1.5  2.5  3.5"
      ]
     },
     "metadata": {},
     "execution_count": 178
    }
   ],
   "metadata": {}
  },
  {
   "cell_type": "code",
   "execution_count": 179,
   "source": [
    "# グラフオブジェクトの作成\n",
    "G = nx.Graph()\n",
    "\n",
    "# ノードの設定\n",
    "for i in range(len(trans_route_pos.columns)):\n",
    "    G.add_node(trans_route_pos.columns[i])\n",
    "\n",
    "# エッジの設定とエッジの重みのリスト化\n",
    "edge_weights = []\n",
    "size = 0.1\n",
    "\n",
    "for i in range(len(trans_route_solved.index)):\n",
    "    for j in range(len(trans_route_solved.columns)):\n",
    "        # エッジの追加\n",
    "        G.add_edge(trans_route_solved.columns[j], trans_route_solved.index[i])\n",
    "\n",
    "        # エッジの重みのリスト化\n",
    "        weight = (\n",
    "            trans_route_solved.loc[\n",
    "                trans_route_solved.index[i], trans_route_solved.columns[j]\n",
    "            ]\n",
    "            * size\n",
    "        )\n",
    "        edge_weights.append(weight)\n",
    "\n",
    "# ノードの座標の設定\n",
    "pos = {}\n",
    "for i in range(len(trans_route_pos.columns)):\n",
    "    node = trans_route_pos.columns[i]\n",
    "    pos[node] = (trans_route_pos.loc[0, node], trans_route_pos.loc[1, node])\n",
    "\n",
    "# 描画\n",
    "nx.draw(\n",
    "    G,\n",
    "    pos,\n",
    "    with_labels=True,\n",
    "    font_size=16,\n",
    "    node_size=1000,\n",
    "    node_color=\"k\",\n",
    "    font_color=\"w\",\n",
    "    width=edge_weights,\n",
    ")"
   ],
   "outputs": [
    {
     "output_type": "display_data",
     "data": {
      "image/png": "[encoded data removed]",
      "text/plain": [
       "<Figure size 640x480 with 1 Axes>"
      ]
     },
     "metadata": {}
    }
   ],
   "metadata": {}
  },
  {
   "cell_type": "code",
   "execution_count": 180,
   "source": [
    "# 制約条件を満たしているかを確認する\n",
    "# 1.制約条件を確認する関数の作成\n",
    "# 1-1.各工場の最小生産数を達成できるかを確認する関数の作成\n",
    "def min_factory_demand_condition(trans_route, min_factory_demand):\n",
    "    flag = np.zeros(len(min_factory_demand.columns))\n",
    "\n",
    "    for i in range(len(min_factory_demand.columns)):\n",
    "        min_demand = min_factory_demand.loc[0, min_factory_demand.columns[i]]\n",
    "        temp_sum = sum(trans_route.loc[:, min_factory_demand.columns[i]])\n",
    "\n",
    "        # 工場の最小生産数を達成できていればフラグを立てる\n",
    "        if temp_sum >= min_demand:\n",
    "            flag[i] = 1\n",
    "    return flag\n",
    "\n",
    "\n",
    "# 1-2.各倉庫の供給可能部品数以下に抑えられているかを確認する関数の作成\n",
    "def max_warehouse_supply_condition(trans_route, max_warehouse_supply):\n",
    "    flag = np.zeros(len(max_warehouse_supply.columns))\n",
    "\n",
    "    for i in range(len(max_warehouse_supply.columns)):\n",
    "        max_supply = max_warehouse_supply.loc[0, max_warehouse_supply.columns[i]]\n",
    "        temp_sum = sum(trans_route.loc[max_warehouse_supply.columns[i], :])\n",
    "\n",
    "        # 倉庫の供給可能部品数以下に抑えられていればフラグを立てる\n",
    "        if temp_sum <= max_supply:\n",
    "            flag[i] = 1\n",
    "    return flag"
   ],
   "outputs": [],
   "metadata": {}
  },
  {
   "cell_type": "code",
   "execution_count": 181,
   "source": [
    "# 2.制約条件を満たしているかを確認する\n",
    "print(\n",
    "    f\"各工場の最小生産数の達成確認結果(達成:1, 未達成:0): {min_factory_demand_condition(trans_route_solved,min_factory_demand)}\"\n",
    ")\n",
    "print(\n",
    "    f\"各倉庫の供給可能部品数以下の達成確認結果(達成:1, 未達成:0): {max_warehouse_supply_condition(trans_route_solved,max_warehouse_supply)}\"\n",
    ")"
   ],
   "outputs": [
    {
     "output_type": "stream",
     "name": "stdout",
     "text": [
      "各工場の最小生産数の達成確認結果(達成:1, 未達成:0): [1. 1. 1. 1.]\n",
      "各倉庫の供給可能部品数以下の達成確認結果(達成:1, 未達成:0): [1. 1. 1.]\n"
     ]
    }
   ],
   "metadata": {}
  },
  {
   "cell_type": "code",
   "execution_count": 182,
   "source": [
    "# 生産計画に関するデータを読み込む"
   ],
   "outputs": [],
   "metadata": {}
  },
  {
   "cell_type": "code",
   "execution_count": 183,
   "source": [
    "# 1.製品の製造に必要な原料の割合\n",
    "material = pd.read_csv(\"input/product_plan_material.csv\", index_col=\"製品\")\n",
    "material"
   ],
   "outputs": [
    {
     "output_type": "execute_result",
     "data": {
      "text/html": [
       "<div>\n",
       "<style scoped>\n",
       "    .dataframe tbody tr th:only-of-type {\n",
       "        vertical-align: middle;\n",
       "    }\n",
       "\n",
       "    .dataframe tbody tr th {\n",
       "        vertical-align: top;\n",
       "    }\n",
       "\n",
       "    .dataframe thead th {\n",
       "        text-align: right;\n",
       "    }\n",
       "</style>\n",
       "<table border=\"1\" class=\"dataframe\">\n",
       "  <thead>\n",
       "    <tr style=\"text-align: right;\">\n",
       "      <th></th>\n",
       "      <th>原料1</th>\n",
       "      <th>原料2</th>\n",
       "      <th>原料3</th>\n",
       "    </tr>\n",
       "    <tr>\n",
       "      <th>製品</th>\n",
       "      <th></th>\n",
       "      <th></th>\n",
       "      <th></th>\n",
       "    </tr>\n",
       "  </thead>\n",
       "  <tbody>\n",
       "    <tr>\n",
       "      <th>製品1</th>\n",
       "      <td>1</td>\n",
       "      <td>4</td>\n",
       "      <td>3</td>\n",
       "    </tr>\n",
       "    <tr>\n",
       "      <th>製品2</th>\n",
       "      <td>2</td>\n",
       "      <td>4</td>\n",
       "      <td>1</td>\n",
       "    </tr>\n",
       "  </tbody>\n",
       "</table>\n",
       "</div>"
      ],
      "text/plain": [
       "     原料1  原料2  原料3\n",
       "製品                \n",
       "製品1    1    4    3\n",
       "製品2    2    4    1"
      ]
     },
     "metadata": {},
     "execution_count": 183
    }
   ],
   "metadata": {}
  },
  {
   "cell_type": "code",
   "execution_count": 184,
   "source": [
    "# 2.製品の利益\n",
    "profit = pd.read_csv(\"input/product_plan_profit.csv\", index_col=\"製品\")\n",
    "profit"
   ],
   "outputs": [
    {
     "output_type": "execute_result",
     "data": {
      "text/html": [
       "<div>\n",
       "<style scoped>\n",
       "    .dataframe tbody tr th:only-of-type {\n",
       "        vertical-align: middle;\n",
       "    }\n",
       "\n",
       "    .dataframe tbody tr th {\n",
       "        vertical-align: top;\n",
       "    }\n",
       "\n",
       "    .dataframe thead th {\n",
       "        text-align: right;\n",
       "    }\n",
       "</style>\n",
       "<table border=\"1\" class=\"dataframe\">\n",
       "  <thead>\n",
       "    <tr style=\"text-align: right;\">\n",
       "      <th></th>\n",
       "      <th>利益</th>\n",
       "    </tr>\n",
       "    <tr>\n",
       "      <th>製品</th>\n",
       "      <th></th>\n",
       "    </tr>\n",
       "  </thead>\n",
       "  <tbody>\n",
       "    <tr>\n",
       "      <th>製品1</th>\n",
       "      <td>5.0</td>\n",
       "    </tr>\n",
       "    <tr>\n",
       "      <th>製品2</th>\n",
       "      <td>4.0</td>\n",
       "    </tr>\n",
       "  </tbody>\n",
       "</table>\n",
       "</div>"
      ],
      "text/plain": [
       "      利益\n",
       "製品      \n",
       "製品1  5.0\n",
       "製品2  4.0"
      ]
     },
     "metadata": {},
     "execution_count": 184
    }
   ],
   "metadata": {}
  },
  {
   "cell_type": "code",
   "execution_count": 185,
   "source": [
    "# 3.原料の在庫\n",
    "stock = pd.read_csv(\"input/product_plan_stock.csv\", index_col=\"項目\")\n",
    "stock"
   ],
   "outputs": [
    {
     "output_type": "execute_result",
     "data": {
      "text/html": [
       "<div>\n",
       "<style scoped>\n",
       "    .dataframe tbody tr th:only-of-type {\n",
       "        vertical-align: middle;\n",
       "    }\n",
       "\n",
       "    .dataframe tbody tr th {\n",
       "        vertical-align: top;\n",
       "    }\n",
       "\n",
       "    .dataframe thead th {\n",
       "        text-align: right;\n",
       "    }\n",
       "</style>\n",
       "<table border=\"1\" class=\"dataframe\">\n",
       "  <thead>\n",
       "    <tr style=\"text-align: right;\">\n",
       "      <th></th>\n",
       "      <th>原料1</th>\n",
       "      <th>原料2</th>\n",
       "      <th>原料3</th>\n",
       "    </tr>\n",
       "    <tr>\n",
       "      <th>項目</th>\n",
       "      <th></th>\n",
       "      <th></th>\n",
       "      <th></th>\n",
       "    </tr>\n",
       "  </thead>\n",
       "  <tbody>\n",
       "    <tr>\n",
       "      <th>在庫</th>\n",
       "      <td>40</td>\n",
       "      <td>80</td>\n",
       "      <td>50</td>\n",
       "    </tr>\n",
       "  </tbody>\n",
       "</table>\n",
       "</div>"
      ],
      "text/plain": [
       "    原料1  原料2  原料3\n",
       "項目               \n",
       "在庫   40   80   50"
      ]
     },
     "metadata": {},
     "execution_count": 185
    }
   ],
   "metadata": {}
  },
  {
   "cell_type": "code",
   "execution_count": 186,
   "source": [
    "# 4.製品の生産量\n",
    "product_plan = pd.read_csv(\"input/product_plan.csv\", index_col=\"製品\")\n",
    "product_plan"
   ],
   "outputs": [
    {
     "output_type": "execute_result",
     "data": {
      "text/html": [
       "<div>\n",
       "<style scoped>\n",
       "    .dataframe tbody tr th:only-of-type {\n",
       "        vertical-align: middle;\n",
       "    }\n",
       "\n",
       "    .dataframe tbody tr th {\n",
       "        vertical-align: top;\n",
       "    }\n",
       "\n",
       "    .dataframe thead th {\n",
       "        text-align: right;\n",
       "    }\n",
       "</style>\n",
       "<table border=\"1\" class=\"dataframe\">\n",
       "  <thead>\n",
       "    <tr style=\"text-align: right;\">\n",
       "      <th></th>\n",
       "      <th>生産量</th>\n",
       "    </tr>\n",
       "    <tr>\n",
       "      <th>製品</th>\n",
       "      <th></th>\n",
       "    </tr>\n",
       "  </thead>\n",
       "  <tbody>\n",
       "    <tr>\n",
       "      <th>製品1</th>\n",
       "      <td>16</td>\n",
       "    </tr>\n",
       "    <tr>\n",
       "      <th>製品2</th>\n",
       "      <td>0</td>\n",
       "    </tr>\n",
       "  </tbody>\n",
       "</table>\n",
       "</div>"
      ],
      "text/plain": [
       "      生産量\n",
       "製品       \n",
       "製品1    16\n",
       "製品2     0"
      ]
     },
     "metadata": {},
     "execution_count": 186
    }
   ],
   "metadata": {}
  },
  {
   "cell_type": "code",
   "execution_count": 187,
   "source": [
    "# 利益を計算する関数を作成する\n",
    "def calc_profit(profit, product_plan):\n",
    "    total_profit = 0\n",
    "    for i in range(len(product_plan.index)):\n",
    "        total_profit += profit.iloc[i, 0] * product_plan.iloc[i, 0]\n",
    "    return total_profit\n",
    "\n",
    "\n",
    "print(f\"総利益:{calc_profit(profit, product_plan)}\")"
   ],
   "outputs": [
    {
     "output_type": "stream",
     "name": "stdout",
     "text": [
      "総利益:80.0\n"
     ]
    }
   ],
   "metadata": {}
  },
  {
   "cell_type": "code",
   "execution_count": 188,
   "source": [
    "# 生産最適化問題を解く"
   ],
   "outputs": [],
   "metadata": {}
  },
  {
   "cell_type": "code",
   "execution_count": 189,
   "source": [
    "# LP problemクラスのオブジェクトを作成（最大化問題として定義する）\n",
    "prob = LpProblem(sense=const.LpMaximize)\n",
    "\n",
    "# 変数（各製品の生産量）を製品名をキーとしたディクショナリ型で定義\n",
    "v1 = {\n",
    "    (i): LpVariable(f\"v{i}\", lowBound=0, cat=const.LpInteger)\n",
    "    for i in range(len(product_plan.index))\n",
    "}\n",
    "\n",
    "# 目的関数（総利益）の定義\n",
    "prob += lpSum(profit.iloc[i, 0] * v1[i] for i in range(len(product_plan.index)))\n",
    "\n",
    "# 制約条件（原料の利用量を在庫以下にする）を追加\n",
    "for j in range(len(material.columns)):\n",
    "    prob += (\n",
    "        lpSum(material.iloc[i, j] * v1[i] for i in range(len(product_plan.index)))\n",
    "        <= stock.iloc[0, j]\n",
    "    )\n",
    "\n",
    "# 最大化問題を解く\n",
    "prob.solve()"
   ],
   "outputs": [
    {
     "output_type": "stream",
     "name": "stdout",
     "text": [
      "Welcome to the CBC MILP Solver \n",
      "Version: 2.10.3 \n",
      "Build Date: Dec 15 2019 \n",
      "\n",
      "command line - /opt/homebrew/lib/python3.11/site-packages/pulp/solverdir/cbc/osx/64/cbc /var/folders/x1/__2lmnqj06b4qgghn00dv0s40000gn/T/4d1bbdaa5ee24b7bb2d703e9fb3881b3-pulp.mps max timeMode elapsed branch printingOptions all solution /var/folders/x1/__2lmnqj06b4qgghn00dv0s40000gn/T/4d1bbdaa5ee24b7bb2d703e9fb3881b3-pulp.sol (default strategy 1)\n",
      "At line 2 NAME          MODEL\n",
      "At line 3 ROWS\n",
      "At line 8 COLUMNS\n",
      "At line 21 RHS\n",
      "At line 25 BOUNDS\n",
      "At line 28 ENDATA\n",
      "Problem MODEL has 3 rows, 2 columns and 6 elements\n",
      "Coin0008I MODEL read with 0 errors\n",
      "Option for timeMode changed from cpu to elapsed\n",
      "Continuous objective value is 95 - 0.00 seconds\n",
      "Cgl0004I processed model has 3 rows, 2 columns (2 integer (0 of which binary)) and 6 elements\n",
      "Cutoff increment increased from 1e-05 to 0.9999\n",
      "Cbc0012I Integer solution of -95 found by DiveCoefficient after 0 iterations and 0 nodes (0.00 seconds)\n",
      "Cbc0001I Search completed - best objective -95, took 0 iterations and 0 nodes (0.00 seconds)\n",
      "Cbc0035I Maximum depth 0, 0 variables fixed on reduced cost\n",
      "Cuts at root node changed objective from -95 to -95\n",
      "Probing was tried 0 times and created 0 cuts of which 0 were active after adding rounds of cuts (0.000 seconds)\n",
      "Gomory was tried 0 times and created 0 cuts of which 0 were active after adding rounds of cuts (0.000 seconds)\n",
      "Knapsack was tried 0 times and created 0 cuts of which 0 were active after adding rounds of cuts (0.000 seconds)\n",
      "Clique was tried 0 times and created 0 cuts of which 0 were active after adding rounds of cuts (0.000 seconds)\n",
      "MixedIntegerRounding2 was tried 0 times and created 0 cuts of which 0 were active after adding rounds of cuts (0.000 seconds)\n",
      "FlowCover was tried 0 times and created 0 cuts of which 0 were active after adding rounds of cuts (0.000 seconds)\n",
      "TwoMirCuts was tried 0 times and created 0 cuts of which 0 were active after adding rounds of cuts (0.000 seconds)\n",
      "ZeroHalf was tried 0 times and created 0 cuts of which 0 were active after adding rounds of cuts (0.000 seconds)\n",
      "\n",
      "Result - Optimal solution found\n",
      "\n",
      "Objective value:                95.00000000\n",
      "Enumerated nodes:               0\n",
      "Total iterations:               0\n",
      "Time (CPU seconds):             0.00\n",
      "Time (Wallclock seconds):       0.00\n",
      "\n",
      "Option for printingOptions changed from normal to all\n",
      "Total time (CPU seconds):       0.00   (Wallclock seconds):       0.00\n",
      "\n"
     ]
    },
    {
     "output_type": "execute_result",
     "data": {
      "text/plain": [
       "1"
      ]
     },
     "metadata": {},
     "execution_count": 189
    }
   ],
   "metadata": {}
  },
  {
   "cell_type": "code",
   "execution_count": 190,
   "source": [
    "# 最適解（各製品の生産量）生産時の総利益を計算\n",
    "product_plan_solved = product_plan.copy()\n",
    "\n",
    "for k, x in v1.items():\n",
    "    i = k\n",
    "    product_plan_solved.iloc[i, 0] = value(x)\n",
    "\n",
    "print(product_plan_solved)\n",
    "print(f\"最適生産時の総利益:{value(prob.objective)}\")"
   ],
   "outputs": [
    {
     "output_type": "stream",
     "name": "stdout",
     "text": [
      "      生産量\n",
      "製品       \n",
      "製品1    15\n",
      "製品2     5\n",
      "最適生産時の総利益:95.0\n"
     ]
    }
   ],
   "metadata": {}
  },
  {
   "cell_type": "code",
   "execution_count": 191,
   "source": [
    "# 制約条件を満たしているか（各原料の使用量）を確認する\n",
    "def stock_condition_check(product_plan, material, stock):\n",
    "    flag = np.zeros(len(material.columns))\n",
    "    for i in range(len(material.columns)):\n",
    "        temp_sum = 0\n",
    "        for j in range(len(product_plan.index)):\n",
    "            temp_sum = temp_sum + material.iloc[j, i] * product_plan.iloc[j, 0]\n",
    "        if temp_sum <= stock.iloc[0, i]:\n",
    "            flag[i] = 1\n",
    "        print(f\"{material.columns[i]} 使用量:{temp_sum}, 在庫:{stock.iloc[0,i]}\")\n",
    "    return flag\n",
    "\n",
    "\n",
    "print(f\"制約条件計算結果:{stock_condition_check(product_plan_solved, material, stock)}\")"
   ],
   "outputs": [
    {
     "output_type": "stream",
     "name": "stdout",
     "text": [
      "原料1 使用量:25, 在庫:40\n",
      "原料2 使用量:80, 在庫:80\n",
      "原料3 使用量:50, 在庫:50\n",
      "制約条件計算結果:[1. 1. 1.]\n"
     ]
    }
   ],
   "metadata": {}
  },
  {
   "cell_type": "code",
   "execution_count": 192,
   "source": [
    "# ロジスティックネットワーク設計問題を解く（輸送ルートと生産計画の最適化を同時に考える）\n",
    "# 前提：商品の需要は一定\n",
    "# 「輸送コストと製造コストの和の最小化問題」を解く\n",
    "# 制約条件：各店舗への製品の輸送量が需要を上回る"
   ],
   "outputs": [],
   "metadata": {}
  },
  {
   "cell_type": "code",
   "execution_count": 193,
   "source": [
    "# 1.データ作成\n",
    "products = list(\"AB\")\n",
    "shops = list(\"PQ\")\n",
    "factories = list(\"XY\")\n",
    "lanes = (2, 2)"
   ],
   "outputs": [],
   "metadata": {}
  },
  {
   "cell_type": "code",
   "execution_count": 194,
   "source": [
    "# 1-1.輸送費テーブル(tb_trans_cost)\n",
    "tb_trans_cost = pd.DataFrame(\n",
    "    ((j, k) for j in shops for k in factories), columns=[\"商店\", \"工場\"]\n",
    ")\n",
    "tb_trans_cost[\"輸送費\"] = [1, 2, 3, 1]\n",
    "tb_trans_cost"
   ],
   "outputs": [
    {
     "output_type": "execute_result",
     "data": {
      "text/html": [
       "<div>\n",
       "<style scoped>\n",
       "    .dataframe tbody tr th:only-of-type {\n",
       "        vertical-align: middle;\n",
       "    }\n",
       "\n",
       "    .dataframe tbody tr th {\n",
       "        vertical-align: top;\n",
       "    }\n",
       "\n",
       "    .dataframe thead th {\n",
       "        text-align: right;\n",
       "    }\n",
       "</style>\n",
       "<table border=\"1\" class=\"dataframe\">\n",
       "  <thead>\n",
       "    <tr style=\"text-align: right;\">\n",
       "      <th></th>\n",
       "      <th>商店</th>\n",
       "      <th>工場</th>\n",
       "      <th>輸送費</th>\n",
       "    </tr>\n",
       "  </thead>\n",
       "  <tbody>\n",
       "    <tr>\n",
       "      <th>0</th>\n",
       "      <td>P</td>\n",
       "      <td>X</td>\n",
       "      <td>1</td>\n",
       "    </tr>\n",
       "    <tr>\n",
       "      <th>1</th>\n",
       "      <td>P</td>\n",
       "      <td>Y</td>\n",
       "      <td>2</td>\n",
       "    </tr>\n",
       "    <tr>\n",
       "      <th>2</th>\n",
       "      <td>Q</td>\n",
       "      <td>X</td>\n",
       "      <td>3</td>\n",
       "    </tr>\n",
       "    <tr>\n",
       "      <th>3</th>\n",
       "      <td>Q</td>\n",
       "      <td>Y</td>\n",
       "      <td>1</td>\n",
       "    </tr>\n",
       "  </tbody>\n",
       "</table>\n",
       "</div>"
      ],
      "text/plain": [
       "  商店 工場  輸送費\n",
       "0  P  X    1\n",
       "1  P  Y    2\n",
       "2  Q  X    3\n",
       "3  Q  Y    1"
      ]
     },
     "metadata": {},
     "execution_count": 194
    }
   ],
   "metadata": {}
  },
  {
   "cell_type": "code",
   "execution_count": 195,
   "source": [
    "# 1-2.需要テーブル(tb_shop_demand)\n",
    "tb_shop_demand = pd.DataFrame(\n",
    "    ((j, i) for j in shops for i in products), columns=[\"商店\", \"製品\"]\n",
    ")\n",
    "tb_shop_demand[\"需要\"] = [10, 10, 20, 20]\n",
    "tb_shop_demand"
   ],
   "outputs": [
    {
     "output_type": "execute_result",
     "data": {
      "text/html": [
       "<div>\n",
       "<style scoped>\n",
       "    .dataframe tbody tr th:only-of-type {\n",
       "        vertical-align: middle;\n",
       "    }\n",
       "\n",
       "    .dataframe tbody tr th {\n",
       "        vertical-align: top;\n",
       "    }\n",
       "\n",
       "    .dataframe thead th {\n",
       "        text-align: right;\n",
       "    }\n",
       "</style>\n",
       "<table border=\"1\" class=\"dataframe\">\n",
       "  <thead>\n",
       "    <tr style=\"text-align: right;\">\n",
       "      <th></th>\n",
       "      <th>商店</th>\n",
       "      <th>製品</th>\n",
       "      <th>需要</th>\n",
       "    </tr>\n",
       "  </thead>\n",
       "  <tbody>\n",
       "    <tr>\n",
       "      <th>0</th>\n",
       "      <td>P</td>\n",
       "      <td>A</td>\n",
       "      <td>10</td>\n",
       "    </tr>\n",
       "    <tr>\n",
       "      <th>1</th>\n",
       "      <td>P</td>\n",
       "      <td>B</td>\n",
       "      <td>10</td>\n",
       "    </tr>\n",
       "    <tr>\n",
       "      <th>2</th>\n",
       "      <td>Q</td>\n",
       "      <td>A</td>\n",
       "      <td>20</td>\n",
       "    </tr>\n",
       "    <tr>\n",
       "      <th>3</th>\n",
       "      <td>Q</td>\n",
       "      <td>B</td>\n",
       "      <td>20</td>\n",
       "    </tr>\n",
       "  </tbody>\n",
       "</table>\n",
       "</div>"
      ],
      "text/plain": [
       "  商店 製品  需要\n",
       "0  P  A  10\n",
       "1  P  B  10\n",
       "2  Q  A  20\n",
       "3  Q  B  20"
      ]
     },
     "metadata": {},
     "execution_count": 195
    }
   ],
   "metadata": {}
  },
  {
   "cell_type": "code",
   "execution_count": 196,
   "source": [
    "# 1-3.生産テーブル(tb_factory_production)\n",
    "# c.f.工場Yのレーン0では製品Aしか作れず、かつその生産量の上限（10）がある\n",
    "tb_factory_production = pd.DataFrame(\n",
    "    ((k, l, i) for k, nl in zip(factories, lanes) for l in range(nl) for i in products),\n",
    "    columns=[\"工場\", \"レーン\", \"製品\"],\n",
    ")\n",
    "tb_factory_production[\"下限\"] = 0\n",
    "tb_factory_production[\"上限\"] = np.inf\n",
    "tb_factory_production[\"生産費\"] = [1, np.nan, np.nan, 1, 3, np.nan, 5, 3]\n",
    "tb_factory_production.dropna(ignore_index=True, inplace=True)\n",
    "tb_factory_production.loc[2, \"上限\"] = 10\n",
    "tb_factory_production"
   ],
   "outputs": [
    {
     "output_type": "execute_result",
     "data": {
      "text/html": [
       "<div>\n",
       "<style scoped>\n",
       "    .dataframe tbody tr th:only-of-type {\n",
       "        vertical-align: middle;\n",
       "    }\n",
       "\n",
       "    .dataframe tbody tr th {\n",
       "        vertical-align: top;\n",
       "    }\n",
       "\n",
       "    .dataframe thead th {\n",
       "        text-align: right;\n",
       "    }\n",
       "</style>\n",
       "<table border=\"1\" class=\"dataframe\">\n",
       "  <thead>\n",
       "    <tr style=\"text-align: right;\">\n",
       "      <th></th>\n",
       "      <th>工場</th>\n",
       "      <th>レーン</th>\n",
       "      <th>製品</th>\n",
       "      <th>下限</th>\n",
       "      <th>上限</th>\n",
       "      <th>生産費</th>\n",
       "    </tr>\n",
       "  </thead>\n",
       "  <tbody>\n",
       "    <tr>\n",
       "      <th>0</th>\n",
       "      <td>X</td>\n",
       "      <td>0</td>\n",
       "      <td>A</td>\n",
       "      <td>0</td>\n",
       "      <td>inf</td>\n",
       "      <td>1.0</td>\n",
       "    </tr>\n",
       "    <tr>\n",
       "      <th>1</th>\n",
       "      <td>X</td>\n",
       "      <td>1</td>\n",
       "      <td>B</td>\n",
       "      <td>0</td>\n",
       "      <td>inf</td>\n",
       "      <td>1.0</td>\n",
       "    </tr>\n",
       "    <tr>\n",
       "      <th>2</th>\n",
       "      <td>Y</td>\n",
       "      <td>0</td>\n",
       "      <td>A</td>\n",
       "      <td>0</td>\n",
       "      <td>10.0</td>\n",
       "      <td>3.0</td>\n",
       "    </tr>\n",
       "    <tr>\n",
       "      <th>3</th>\n",
       "      <td>Y</td>\n",
       "      <td>1</td>\n",
       "      <td>A</td>\n",
       "      <td>0</td>\n",
       "      <td>inf</td>\n",
       "      <td>5.0</td>\n",
       "    </tr>\n",
       "    <tr>\n",
       "      <th>4</th>\n",
       "      <td>Y</td>\n",
       "      <td>1</td>\n",
       "      <td>B</td>\n",
       "      <td>0</td>\n",
       "      <td>inf</td>\n",
       "      <td>3.0</td>\n",
       "    </tr>\n",
       "  </tbody>\n",
       "</table>\n",
       "</div>"
      ],
      "text/plain": [
       "  工場  レーン 製品  下限    上限  生産費\n",
       "0  X    0  A   0   inf  1.0\n",
       "1  X    1  B   0   inf  1.0\n",
       "2  Y    0  A   0  10.0  3.0\n",
       "3  Y    1  A   0   inf  5.0\n",
       "4  Y    1  B   0   inf  3.0"
      ]
     },
     "metadata": {},
     "execution_count": 196
    }
   ],
   "metadata": {}
  },
  {
   "cell_type": "code",
   "execution_count": 197,
   "source": [
    "# 2.数理モデル作成"
   ],
   "outputs": [],
   "metadata": {}
  },
  {
   "cell_type": "code",
   "execution_count": 198,
   "source": [
    "# 2-1.Lp problemクラスのオブジェクトを作成（生産費と輸送費の和の最小化問題）\n",
    "prob = LpProblem(\"logistic_network\", sense=const.LpMinimize)\n",
    "\n",
    "# 2-2.変数（生産量と輸送量）の定義"
   ],
   "outputs": [],
   "metadata": {}
  },
  {
   "cell_type": "code",
   "execution_count": 199,
   "source": [
    "# 2-2-1.各工場の各レーンでの各製品の生産量の変数を定義する\n",
    "# 生産テーブルに対応させる\n",
    "v_production = tb_factory_production[[\"工場\", \"レーン\", \"製品\"]].copy()\n",
    "for n in range(len(v_production)):\n",
    "    factory = v_production.loc[n, \"工場\"]\n",
    "    lane = v_production.loc[n, \"レーン\"]\n",
    "    product = v_production.loc[n, \"製品\"]\n",
    "    # 各レーンでの生産量の上限がある場合は上限値を設定する（制約条件）\n",
    "    max_production = tb_factory_production.loc[n, \"上限\"]\n",
    "    if max_production == np.inf:\n",
    "        max_production = None\n",
    "    v_production.loc[n, \"生産量\"] = LpVariable(\n",
    "        f\"v_production{factory}_{lane}_{product}\",\n",
    "        lowBound=0,\n",
    "        upBound=max_production,\n",
    "        cat=const.LpInteger,\n",
    "    )\n",
    "v_production"
   ],
   "outputs": [
    {
     "output_type": "execute_result",
     "data": {
      "text/html": [
       "<div>\n",
       "<style scoped>\n",
       "    .dataframe tbody tr th:only-of-type {\n",
       "        vertical-align: middle;\n",
       "    }\n",
       "\n",
       "    .dataframe tbody tr th {\n",
       "        vertical-align: top;\n",
       "    }\n",
       "\n",
       "    .dataframe thead th {\n",
       "        text-align: right;\n",
       "    }\n",
       "</style>\n",
       "<table border=\"1\" class=\"dataframe\">\n",
       "  <thead>\n",
       "    <tr style=\"text-align: right;\">\n",
       "      <th></th>\n",
       "      <th>工場</th>\n",
       "      <th>レーン</th>\n",
       "      <th>製品</th>\n",
       "      <th>生産量</th>\n",
       "    </tr>\n",
       "  </thead>\n",
       "  <tbody>\n",
       "    <tr>\n",
       "      <th>0</th>\n",
       "      <td>X</td>\n",
       "      <td>0</td>\n",
       "      <td>A</td>\n",
       "      <td>v_productionX_0_A</td>\n",
       "    </tr>\n",
       "    <tr>\n",
       "      <th>1</th>\n",
       "      <td>X</td>\n",
       "      <td>1</td>\n",
       "      <td>B</td>\n",
       "      <td>v_productionX_1_B</td>\n",
       "    </tr>\n",
       "    <tr>\n",
       "      <th>2</th>\n",
       "      <td>Y</td>\n",
       "      <td>0</td>\n",
       "      <td>A</td>\n",
       "      <td>v_productionY_0_A</td>\n",
       "    </tr>\n",
       "    <tr>\n",
       "      <th>3</th>\n",
       "      <td>Y</td>\n",
       "      <td>1</td>\n",
       "      <td>A</td>\n",
       "      <td>v_productionY_1_A</td>\n",
       "    </tr>\n",
       "    <tr>\n",
       "      <th>4</th>\n",
       "      <td>Y</td>\n",
       "      <td>1</td>\n",
       "      <td>B</td>\n",
       "      <td>v_productionY_1_B</td>\n",
       "    </tr>\n",
       "  </tbody>\n",
       "</table>\n",
       "</div>"
      ],
      "text/plain": [
       "  工場  レーン 製品                生産量\n",
       "0  X    0  A  v_productionX_0_A\n",
       "1  X    1  B  v_productionX_1_B\n",
       "2  Y    0  A  v_productionY_0_A\n",
       "3  Y    1  A  v_productionY_1_A\n",
       "4  Y    1  B  v_productionY_1_B"
      ]
     },
     "metadata": {},
     "execution_count": 199
    }
   ],
   "metadata": {}
  },
  {
   "cell_type": "code",
   "execution_count": 200,
   "source": [
    "# 2-2-2.各工場から各商店への各製品の輸送量の変数を定義する\n",
    "# columns=[\"工場\",\"商店\",\"製品\",\"輸送量\"]\n",
    "# 工場、商店、製品の全ての組み合わせのテーブルを作成\n",
    "data = [[f, s, p] for f in factories for s in shops for p in products]\n",
    "v_transportation = pd.DataFrame(data, columns=[\"工場\", \"商店\", \"製品\"])\n",
    "# 輸送量列に変数を定義\n",
    "for n in range(len(v_transportation)):\n",
    "    factory = v_transportation.loc[n, \"工場\"]\n",
    "    shop = v_transportation.loc[n, \"商店\"]\n",
    "    product = v_transportation.loc[n, \"製品\"]\n",
    "    v_transportation.loc[n, \"輸送量\"] = LpVariable(\n",
    "        f\"v_transportation{factory}_{shop}_{product}\", lowBound=0, cat=const.LpInteger\n",
    "    )\n",
    "v_transportation"
   ],
   "outputs": [
    {
     "output_type": "execute_result",
     "data": {
      "text/html": [
       "<div>\n",
       "<style scoped>\n",
       "    .dataframe tbody tr th:only-of-type {\n",
       "        vertical-align: middle;\n",
       "    }\n",
       "\n",
       "    .dataframe tbody tr th {\n",
       "        vertical-align: top;\n",
       "    }\n",
       "\n",
       "    .dataframe thead th {\n",
       "        text-align: right;\n",
       "    }\n",
       "</style>\n",
       "<table border=\"1\" class=\"dataframe\">\n",
       "  <thead>\n",
       "    <tr style=\"text-align: right;\">\n",
       "      <th></th>\n",
       "      <th>工場</th>\n",
       "      <th>商店</th>\n",
       "      <th>製品</th>\n",
       "      <th>輸送量</th>\n",
       "    </tr>\n",
       "  </thead>\n",
       "  <tbody>\n",
       "    <tr>\n",
       "      <th>0</th>\n",
       "      <td>X</td>\n",
       "      <td>P</td>\n",
       "      <td>A</td>\n",
       "      <td>v_transportationX_P_A</td>\n",
       "    </tr>\n",
       "    <tr>\n",
       "      <th>1</th>\n",
       "      <td>X</td>\n",
       "      <td>P</td>\n",
       "      <td>B</td>\n",
       "      <td>v_transportationX_P_B</td>\n",
       "    </tr>\n",
       "    <tr>\n",
       "      <th>2</th>\n",
       "      <td>X</td>\n",
       "      <td>Q</td>\n",
       "      <td>A</td>\n",
       "      <td>v_transportationX_Q_A</td>\n",
       "    </tr>\n",
       "    <tr>\n",
       "      <th>3</th>\n",
       "      <td>X</td>\n",
       "      <td>Q</td>\n",
       "      <td>B</td>\n",
       "      <td>v_transportationX_Q_B</td>\n",
       "    </tr>\n",
       "    <tr>\n",
       "      <th>4</th>\n",
       "      <td>Y</td>\n",
       "      <td>P</td>\n",
       "      <td>A</td>\n",
       "      <td>v_transportationY_P_A</td>\n",
       "    </tr>\n",
       "    <tr>\n",
       "      <th>5</th>\n",
       "      <td>Y</td>\n",
       "      <td>P</td>\n",
       "      <td>B</td>\n",
       "      <td>v_transportationY_P_B</td>\n",
       "    </tr>\n",
       "    <tr>\n",
       "      <th>6</th>\n",
       "      <td>Y</td>\n",
       "      <td>Q</td>\n",
       "      <td>A</td>\n",
       "      <td>v_transportationY_Q_A</td>\n",
       "    </tr>\n",
       "    <tr>\n",
       "      <th>7</th>\n",
       "      <td>Y</td>\n",
       "      <td>Q</td>\n",
       "      <td>B</td>\n",
       "      <td>v_transportationY_Q_B</td>\n",
       "    </tr>\n",
       "  </tbody>\n",
       "</table>\n",
       "</div>"
      ],
      "text/plain": [
       "  工場 商店 製品                    輸送量\n",
       "0  X  P  A  v_transportationX_P_A\n",
       "1  X  P  B  v_transportationX_P_B\n",
       "2  X  Q  A  v_transportationX_Q_A\n",
       "3  X  Q  B  v_transportationX_Q_B\n",
       "4  Y  P  A  v_transportationY_P_A\n",
       "5  Y  P  B  v_transportationY_P_B\n",
       "6  Y  Q  A  v_transportationY_Q_A\n",
       "7  Y  Q  B  v_transportationY_Q_B"
      ]
     },
     "metadata": {},
     "execution_count": 200
    }
   ],
   "metadata": {}
  },
  {
   "cell_type": "code",
   "execution_count": 201,
   "source": [
    "# 3.目的関数（生産コストと輸送コストの総和）を定義"
   ],
   "outputs": [],
   "metadata": {}
  },
  {
   "cell_type": "code",
   "execution_count": 202,
   "source": [
    "prob += lpDot(tb_factory_production[\"生産費\"], v_production[\"生産量\"]) + lpSum(\n",
    "    tb_trans_cost.loc[\n",
    "        (tb_trans_cost[\"商店\"] == shop) & (tb_trans_cost[\"工場\"] == factory), \"輸送費\"\n",
    "    ]\n",
    "    * v_transportation.loc[\n",
    "        (v_transportation[\"工場\"] == factory) & (v_transportation[\"商店\"] == shop),\n",
    "        \"輸送量\",\n",
    "    ].sum()\n",
    "    for shop in shops\n",
    "    for factory in factories\n",
    ")"
   ],
   "outputs": [],
   "metadata": {}
  },
  {
   "cell_type": "code",
   "execution_count": 203,
   "source": [
    "# 4.制約条件を設定する\n",
    "# 4-1.各工場での各製品の生産量が各工場からの各製品の輸送量以上になる\n",
    "# 各工場からの各製品の輸送量（出荷量）の集計\n",
    "n_factory_shipment = v_transportation.groupby([\"工場\", \"製品\"])[\"輸送量\"].sum()\n",
    "n_factory_shipment"
   ],
   "outputs": [
    {
     "output_type": "execute_result",
     "data": {
      "text/plain": [
       "工場  製品\n",
       "X   A     {v_transportationX_P_A: 1, v_transportationX_Q...\n",
       "    B     {v_transportationX_P_B: 1, v_transportationX_Q...\n",
       "Y   A     {v_transportationY_P_A: 1, v_transportationY_Q...\n",
       "    B     {v_transportationY_P_B: 1, v_transportationY_Q...\n",
       "Name: 輸送量, dtype: object"
      ]
     },
     "metadata": {},
     "execution_count": 203
    }
   ],
   "metadata": {}
  },
  {
   "cell_type": "code",
   "execution_count": 204,
   "source": [
    "# 各工場での各製品の生産量の集計\n",
    "n_factory_produce = v_production.groupby([\"工場\", \"製品\"])[\"生産量\"].sum()\n",
    "n_factory_produce"
   ],
   "outputs": [
    {
     "output_type": "execute_result",
     "data": {
      "text/plain": [
       "工場  製品\n",
       "X   A                                v_productionX_0_A\n",
       "    B                                v_productionX_1_B\n",
       "Y   A     {v_productionY_0_A: 1, v_productionY_1_A: 1}\n",
       "    B                                v_productionY_1_B\n",
       "Name: 生産量, dtype: object"
      ]
     },
     "metadata": {},
     "execution_count": 204
    }
   ],
   "metadata": {}
  },
  {
   "cell_type": "code",
   "execution_count": 205,
   "source": [
    "# 制約条件の作成\n",
    "# 制約条件作成のためのデータフレーム作成（上で集計した結果のデータフレームを結合）\n",
    "const_factory = pd.concat([n_factory_shipment, n_factory_produce], axis=1)\n",
    "const_factory"
   ],
   "outputs": [
    {
     "output_type": "execute_result",
     "data": {
      "text/html": [
       "<div>\n",
       "<style scoped>\n",
       "    .dataframe tbody tr th:only-of-type {\n",
       "        vertical-align: middle;\n",
       "    }\n",
       "\n",
       "    .dataframe tbody tr th {\n",
       "        vertical-align: top;\n",
       "    }\n",
       "\n",
       "    .dataframe thead th {\n",
       "        text-align: right;\n",
       "    }\n",
       "</style>\n",
       "<table border=\"1\" class=\"dataframe\">\n",
       "  <thead>\n",
       "    <tr style=\"text-align: right;\">\n",
       "      <th></th>\n",
       "      <th></th>\n",
       "      <th>輸送量</th>\n",
       "      <th>生産量</th>\n",
       "    </tr>\n",
       "    <tr>\n",
       "      <th>工場</th>\n",
       "      <th>製品</th>\n",
       "      <th></th>\n",
       "      <th></th>\n",
       "    </tr>\n",
       "  </thead>\n",
       "  <tbody>\n",
       "    <tr>\n",
       "      <th rowspan=\"2\" valign=\"top\">X</th>\n",
       "      <th>A</th>\n",
       "      <td>{v_transportationX_P_A: 1, v_transportationX_Q...</td>\n",
       "      <td>v_productionX_0_A</td>\n",
       "    </tr>\n",
       "    <tr>\n",
       "      <th>B</th>\n",
       "      <td>{v_transportationX_P_B: 1, v_transportationX_Q...</td>\n",
       "      <td>v_productionX_1_B</td>\n",
       "    </tr>\n",
       "    <tr>\n",
       "      <th rowspan=\"2\" valign=\"top\">Y</th>\n",
       "      <th>A</th>\n",
       "      <td>{v_transportationY_P_A: 1, v_transportationY_Q...</td>\n",
       "      <td>{v_productionY_0_A: 1, v_productionY_1_A: 1}</td>\n",
       "    </tr>\n",
       "    <tr>\n",
       "      <th>B</th>\n",
       "      <td>{v_transportationY_P_B: 1, v_transportationY_Q...</td>\n",
       "      <td>v_productionY_1_B</td>\n",
       "    </tr>\n",
       "  </tbody>\n",
       "</table>\n",
       "</div>"
      ],
      "text/plain": [
       "                                                     輸送量   \n",
       "工場 製品                                                      \n",
       "X  A   {v_transportationX_P_A: 1, v_transportationX_Q...  \\\n",
       "   B   {v_transportationX_P_B: 1, v_transportationX_Q...   \n",
       "Y  A   {v_transportationY_P_A: 1, v_transportationY_Q...   \n",
       "   B   {v_transportationY_P_B: 1, v_transportationY_Q...   \n",
       "\n",
       "                                                生産量  \n",
       "工場 製品                                                \n",
       "X  A                              v_productionX_0_A  \n",
       "   B                              v_productionX_1_B  \n",
       "Y  A   {v_productionY_0_A: 1, v_productionY_1_A: 1}  \n",
       "   B                              v_productionY_1_B  "
      ]
     },
     "metadata": {},
     "execution_count": 205
    }
   ],
   "metadata": {}
  },
  {
   "cell_type": "code",
   "execution_count": 206,
   "source": [
    "# 各行(axis=1)に対して輸送量が生産量以下になる制約条件を作成\n",
    "const_factory.apply(lambda r: prob.addConstraint(r[\"輸送量\"] <= r[\"生産量\"]), axis=1)"
   ],
   "outputs": [
    {
     "output_type": "execute_result",
     "data": {
      "text/plain": [
       "工場  製品\n",
       "X   A     None\n",
       "    B     None\n",
       "Y   A     None\n",
       "    B     None\n",
       "dtype: object"
      ]
     },
     "metadata": {},
     "execution_count": 206
    }
   ],
   "metadata": {}
  },
  {
   "cell_type": "code",
   "execution_count": 207,
   "source": [
    "# 4-2.各商店への各製品の輸送量（入荷量）が各商店での各製品の需要量以上になる\n",
    "# 各商店での各製品の輸送量（入荷量）の集計\n",
    "n_shop_payload = v_transportation.groupby([\"商店\", \"製品\"])[\"輸送量\"].sum()\n",
    "n_shop_payload"
   ],
   "outputs": [
    {
     "output_type": "execute_result",
     "data": {
      "text/plain": [
       "商店  製品\n",
       "P   A     {v_transportationX_P_A: 1, v_transportationY_P...\n",
       "    B     {v_transportationX_P_B: 1, v_transportationY_P...\n",
       "Q   A     {v_transportationX_Q_A: 1, v_transportationY_Q...\n",
       "    B     {v_transportationX_Q_B: 1, v_transportationY_Q...\n",
       "Name: 輸送量, dtype: object"
      ]
     },
     "metadata": {},
     "execution_count": 207
    }
   ],
   "metadata": {}
  },
  {
   "cell_type": "code",
   "execution_count": 208,
   "source": [
    "# 制約条件の作成\n",
    "# 制約条件作成のためのデータフレーム作成（各商店での各製品の輸送量の集計結果と需要テーブルを結合）\n",
    "const_shop = pd.merge(n_shop_payload, tb_shop_demand, on=[\"商店\", \"製品\"])\n",
    "const_shop"
   ],
   "outputs": [
    {
     "output_type": "execute_result",
     "data": {
      "text/html": [
       "<div>\n",
       "<style scoped>\n",
       "    .dataframe tbody tr th:only-of-type {\n",
       "        vertical-align: middle;\n",
       "    }\n",
       "\n",
       "    .dataframe tbody tr th {\n",
       "        vertical-align: top;\n",
       "    }\n",
       "\n",
       "    .dataframe thead th {\n",
       "        text-align: right;\n",
       "    }\n",
       "</style>\n",
       "<table border=\"1\" class=\"dataframe\">\n",
       "  <thead>\n",
       "    <tr style=\"text-align: right;\">\n",
       "      <th></th>\n",
       "      <th>商店</th>\n",
       "      <th>製品</th>\n",
       "      <th>輸送量</th>\n",
       "      <th>需要</th>\n",
       "    </tr>\n",
       "  </thead>\n",
       "  <tbody>\n",
       "    <tr>\n",
       "      <th>0</th>\n",
       "      <td>P</td>\n",
       "      <td>A</td>\n",
       "      <td>{v_transportationX_P_A: 1, v_transportationY_P...</td>\n",
       "      <td>10</td>\n",
       "    </tr>\n",
       "    <tr>\n",
       "      <th>1</th>\n",
       "      <td>P</td>\n",
       "      <td>B</td>\n",
       "      <td>{v_transportationX_P_B: 1, v_transportationY_P...</td>\n",
       "      <td>10</td>\n",
       "    </tr>\n",
       "    <tr>\n",
       "      <th>2</th>\n",
       "      <td>Q</td>\n",
       "      <td>A</td>\n",
       "      <td>{v_transportationX_Q_A: 1, v_transportationY_Q...</td>\n",
       "      <td>20</td>\n",
       "    </tr>\n",
       "    <tr>\n",
       "      <th>3</th>\n",
       "      <td>Q</td>\n",
       "      <td>B</td>\n",
       "      <td>{v_transportationX_Q_B: 1, v_transportationY_Q...</td>\n",
       "      <td>20</td>\n",
       "    </tr>\n",
       "  </tbody>\n",
       "</table>\n",
       "</div>"
      ],
      "text/plain": [
       "  商店 製品                                                輸送量  需要\n",
       "0  P  A  {v_transportationX_P_A: 1, v_transportationY_P...  10\n",
       "1  P  B  {v_transportationX_P_B: 1, v_transportationY_P...  10\n",
       "2  Q  A  {v_transportationX_Q_A: 1, v_transportationY_Q...  20\n",
       "3  Q  B  {v_transportationX_Q_B: 1, v_transportationY_Q...  20"
      ]
     },
     "metadata": {},
     "execution_count": 208
    }
   ],
   "metadata": {}
  },
  {
   "cell_type": "code",
   "execution_count": 209,
   "source": [
    "# 各行に対して輸送量が需要以上になる制約条件を作成\n",
    "const_shop.apply(lambda r: prob.addConstraint(r[\"需要\"] <= r[\"輸送量\"]), axis=1)"
   ],
   "outputs": [
    {
     "output_type": "execute_result",
     "data": {
      "text/plain": [
       "0    None\n",
       "1    None\n",
       "2    None\n",
       "3    None\n",
       "dtype: object"
      ]
     },
     "metadata": {},
     "execution_count": 209
    }
   ],
   "metadata": {}
  },
  {
   "cell_type": "code",
   "execution_count": 210,
   "source": [
    "# 最小化問題を解く\n",
    "prob.solve()"
   ],
   "outputs": [
    {
     "output_type": "stream",
     "name": "stdout",
     "text": [
      "Welcome to the CBC MILP Solver \n",
      "Version: 2.10.3 \n",
      "Build Date: Dec 15 2019 \n",
      "\n",
      "command line - /opt/homebrew/lib/python3.11/site-packages/pulp/solverdir/cbc/osx/64/cbc /var/folders/x1/__2lmnqj06b4qgghn00dv0s40000gn/T/7397955fec124d01bf3f7f099285524d-pulp.mps timeMode elapsed branch printingOptions all solution /var/folders/x1/__2lmnqj06b4qgghn00dv0s40000gn/T/7397955fec124d01bf3f7f099285524d-pulp.sol (default strategy 1)\n",
      "At line 2 NAME          MODEL\n",
      "At line 3 ROWS\n",
      "At line 13 COLUMNS\n",
      "At line 74 RHS\n",
      "At line 83 BOUNDS\n",
      "At line 97 ENDATA\n",
      "Problem MODEL has 8 rows, 13 columns and 21 elements\n",
      "Coin0008I MODEL read with 0 errors\n",
      "Option for timeMode changed from cpu to elapsed\n",
      "Continuous objective value is 200 - 0.00 seconds\n",
      "Cgl0003I 0 fixed, 12 tightened bounds, 0 strengthened rows, 0 substitutions\n",
      "Cgl0004I processed model has 8 rows, 13 columns (13 integer (0 of which binary)) and 21 elements\n",
      "Cutoff increment increased from 1e-05 to 0.9999\n",
      "Cbc0012I Integer solution of 200 found by DiveCoefficient after 0 iterations and 0 nodes (0.00 seconds)\n",
      "Cbc0001I Search completed - best objective 200, took 0 iterations and 0 nodes (0.00 seconds)\n",
      "Cbc0035I Maximum depth 0, 0 variables fixed on reduced cost\n",
      "Cuts at root node changed objective from 200 to 200\n",
      "Probing was tried 0 times and created 0 cuts of which 0 were active after adding rounds of cuts (0.000 seconds)\n",
      "Gomory was tried 0 times and created 0 cuts of which 0 were active after adding rounds of cuts (0.000 seconds)\n",
      "Knapsack was tried 0 times and created 0 cuts of which 0 were active after adding rounds of cuts (0.000 seconds)\n",
      "Clique was tried 0 times and created 0 cuts of which 0 were active after adding rounds of cuts (0.000 seconds)\n",
      "MixedIntegerRounding2 was tried 0 times and created 0 cuts of which 0 were active after adding rounds of cuts (0.000 seconds)\n",
      "FlowCover was tried 0 times and created 0 cuts of which 0 were active after adding rounds of cuts (0.000 seconds)\n",
      "TwoMirCuts was tried 0 times and created 0 cuts of which 0 were active after adding rounds of cuts (0.000 seconds)\n",
      "ZeroHalf was tried 0 times and created 0 cuts of which 0 were active after adding rounds of cuts (0.000 seconds)\n",
      "\n",
      "Result - Optimal solution found\n",
      "\n",
      "Objective value:                200.00000000\n",
      "Enumerated nodes:               0\n",
      "Total iterations:               0\n",
      "Time (CPU seconds):             0.00\n",
      "Time (Wallclock seconds):       0.00\n",
      "\n",
      "Option for printingOptions changed from normal to all\n",
      "Total time (CPU seconds):       0.00   (Wallclock seconds):       0.00\n",
      "\n"
     ]
    },
    {
     "output_type": "execute_result",
     "data": {
      "text/plain": [
       "1"
      ]
     },
     "metadata": {},
     "execution_count": 210
    }
   ],
   "metadata": {}
  },
  {
   "cell_type": "code",
   "execution_count": 211,
   "source": [
    "# 最適化問題を解いたあと、生産量、輸送量の列に算出結した変数の値（最適解）を代入する\n",
    "if prob.status == 1:\n",
    "    v_production[\"生産量\"] = v_production[\"生産量\"].apply(value)\n",
    "    v_transportation[\"輸送量\"] = v_transportation[\"輸送量\"].apply(value)"
   ],
   "outputs": [],
   "metadata": {}
  },
  {
   "cell_type": "code",
   "execution_count": 212,
   "source": [
    "# 生産量の算出結果の確認\n",
    "v_production"
   ],
   "outputs": [
    {
     "output_type": "execute_result",
     "data": {
      "text/html": [
       "<div>\n",
       "<style scoped>\n",
       "    .dataframe tbody tr th:only-of-type {\n",
       "        vertical-align: middle;\n",
       "    }\n",
       "\n",
       "    .dataframe tbody tr th {\n",
       "        vertical-align: top;\n",
       "    }\n",
       "\n",
       "    .dataframe thead th {\n",
       "        text-align: right;\n",
       "    }\n",
       "</style>\n",
       "<table border=\"1\" class=\"dataframe\">\n",
       "  <thead>\n",
       "    <tr style=\"text-align: right;\">\n",
       "      <th></th>\n",
       "      <th>工場</th>\n",
       "      <th>レーン</th>\n",
       "      <th>製品</th>\n",
       "      <th>生産量</th>\n",
       "    </tr>\n",
       "  </thead>\n",
       "  <tbody>\n",
       "    <tr>\n",
       "      <th>0</th>\n",
       "      <td>X</td>\n",
       "      <td>0</td>\n",
       "      <td>A</td>\n",
       "      <td>20.0</td>\n",
       "    </tr>\n",
       "    <tr>\n",
       "      <th>1</th>\n",
       "      <td>X</td>\n",
       "      <td>1</td>\n",
       "      <td>B</td>\n",
       "      <td>10.0</td>\n",
       "    </tr>\n",
       "    <tr>\n",
       "      <th>2</th>\n",
       "      <td>Y</td>\n",
       "      <td>0</td>\n",
       "      <td>A</td>\n",
       "      <td>10.0</td>\n",
       "    </tr>\n",
       "    <tr>\n",
       "      <th>3</th>\n",
       "      <td>Y</td>\n",
       "      <td>1</td>\n",
       "      <td>A</td>\n",
       "      <td>0.0</td>\n",
       "    </tr>\n",
       "    <tr>\n",
       "      <th>4</th>\n",
       "      <td>Y</td>\n",
       "      <td>1</td>\n",
       "      <td>B</td>\n",
       "      <td>20.0</td>\n",
       "    </tr>\n",
       "  </tbody>\n",
       "</table>\n",
       "</div>"
      ],
      "text/plain": [
       "  工場  レーン 製品   生産量\n",
       "0  X    0  A  20.0\n",
       "1  X    1  B  10.0\n",
       "2  Y    0  A  10.0\n",
       "3  Y    1  A   0.0\n",
       "4  Y    1  B  20.0"
      ]
     },
     "metadata": {},
     "execution_count": 212
    }
   ],
   "metadata": {}
  },
  {
   "cell_type": "code",
   "execution_count": 213,
   "source": [
    "# 輸送量の算出結果の確認\n",
    "v_transportation"
   ],
   "outputs": [
    {
     "output_type": "execute_result",
     "data": {
      "text/html": [
       "<div>\n",
       "<style scoped>\n",
       "    .dataframe tbody tr th:only-of-type {\n",
       "        vertical-align: middle;\n",
       "    }\n",
       "\n",
       "    .dataframe tbody tr th {\n",
       "        vertical-align: top;\n",
       "    }\n",
       "\n",
       "    .dataframe thead th {\n",
       "        text-align: right;\n",
       "    }\n",
       "</style>\n",
       "<table border=\"1\" class=\"dataframe\">\n",
       "  <thead>\n",
       "    <tr style=\"text-align: right;\">\n",
       "      <th></th>\n",
       "      <th>工場</th>\n",
       "      <th>商店</th>\n",
       "      <th>製品</th>\n",
       "      <th>輸送量</th>\n",
       "    </tr>\n",
       "  </thead>\n",
       "  <tbody>\n",
       "    <tr>\n",
       "      <th>0</th>\n",
       "      <td>X</td>\n",
       "      <td>P</td>\n",
       "      <td>A</td>\n",
       "      <td>10.0</td>\n",
       "    </tr>\n",
       "    <tr>\n",
       "      <th>1</th>\n",
       "      <td>X</td>\n",
       "      <td>P</td>\n",
       "      <td>B</td>\n",
       "      <td>10.0</td>\n",
       "    </tr>\n",
       "    <tr>\n",
       "      <th>2</th>\n",
       "      <td>X</td>\n",
       "      <td>Q</td>\n",
       "      <td>A</td>\n",
       "      <td>10.0</td>\n",
       "    </tr>\n",
       "    <tr>\n",
       "      <th>3</th>\n",
       "      <td>X</td>\n",
       "      <td>Q</td>\n",
       "      <td>B</td>\n",
       "      <td>0.0</td>\n",
       "    </tr>\n",
       "    <tr>\n",
       "      <th>4</th>\n",
       "      <td>Y</td>\n",
       "      <td>P</td>\n",
       "      <td>A</td>\n",
       "      <td>0.0</td>\n",
       "    </tr>\n",
       "    <tr>\n",
       "      <th>5</th>\n",
       "      <td>Y</td>\n",
       "      <td>P</td>\n",
       "      <td>B</td>\n",
       "      <td>0.0</td>\n",
       "    </tr>\n",
       "    <tr>\n",
       "      <th>6</th>\n",
       "      <td>Y</td>\n",
       "      <td>Q</td>\n",
       "      <td>A</td>\n",
       "      <td>10.0</td>\n",
       "    </tr>\n",
       "    <tr>\n",
       "      <th>7</th>\n",
       "      <td>Y</td>\n",
       "      <td>Q</td>\n",
       "      <td>B</td>\n",
       "      <td>20.0</td>\n",
       "    </tr>\n",
       "  </tbody>\n",
       "</table>\n",
       "</div>"
      ],
      "text/plain": [
       "  工場 商店 製品   輸送量\n",
       "0  X  P  A  10.0\n",
       "1  X  P  B  10.0\n",
       "2  X  Q  A  10.0\n",
       "3  X  Q  B   0.0\n",
       "4  Y  P  A   0.0\n",
       "5  Y  P  B   0.0\n",
       "6  Y  Q  A  10.0\n",
       "7  Y  Q  B  20.0"
      ]
     },
     "metadata": {},
     "execution_count": 213
    }
   ],
   "metadata": {}
  },
  {
   "cell_type": "code",
   "execution_count": 214,
   "source": [
    "# 計算結果が妥当かどうかを確認する"
   ],
   "outputs": [],
   "metadata": {}
  },
  {
   "cell_type": "code",
   "execution_count": 215,
   "source": [
    "# 1.最適ネットワークにおける輸送コストを計算する"
   ],
   "outputs": [],
   "metadata": {}
  },
  {
   "cell_type": "code",
   "execution_count": 216,
   "source": [
    "tb_calc_trans_cost = pd.merge(\n",
    "    v_transportation, tb_trans_cost, how=\"left\", on=[\"工場\", \"商店\"]\n",
    ")\n",
    "\n",
    "total_transport_cost = (tb_calc_trans_cost[\"輸送費\"] * tb_calc_trans_cost[\"輸送量\"]).sum()\n",
    "\n",
    "print(f\"総輸送コスト:{total_transport_cost}\")"
   ],
   "outputs": [
    {
     "output_type": "stream",
     "name": "stdout",
     "text": [
      "総輸送コスト:80.0\n"
     ]
    }
   ],
   "metadata": {}
  },
  {
   "cell_type": "code",
   "execution_count": 217,
   "source": [
    "# 2.最適ネットワークにおける生産コストを計算する\n",
    "total_produce_cost = (tb_factory_production[\"生産費\"] * v_production[\"生産量\"]).sum()\n",
    "\n",
    "print(f\"総生産コスト:{total_produce_cost}\")"
   ],
   "outputs": [
    {
     "output_type": "stream",
     "name": "stdout",
     "text": [
      "総生産コスト:120.0\n"
     ]
    }
   ],
   "metadata": {}
  }
 ],
 "nbformat": 4,
 "nbformat_minor": 2,
 "metadata": {
  "language_info": {
   "codemirror_mode": {
    "name": "ipython",
    "version": 3
   },
   "file_extension": ".py",
   "mimetype": "text/x-python",
   "name": "python",
   "nbconvert_exporter": "python",
   "pygments_lexer": "ipython3",
   "version": 3
  },
  "orig_nbformat": 4
 }
}